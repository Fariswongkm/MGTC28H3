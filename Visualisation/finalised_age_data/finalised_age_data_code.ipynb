{
 "cells": [
  {
   "cell_type": "code",
   "execution_count": 1,
   "id": "c7078cc9",
   "metadata": {},
   "outputs": [],
   "source": [
    "import pandas as pd\n",
    "from functools import reduce\n",
    "Women_10_14= pd.read_csv('10 to 14 years - Counts - Women+')\n",
    "Women_15_19= pd.read_csv('15 to 19 years - Counts - Women＋')\n",
    "Women_20_24= pd.read_csv('20 to 24 years - Counts - Women＋')\n",
    "Women_25_29= pd.read_csv('25 to 29 years - Counts - Women＋')\n",
    "Women_30_34= pd.read_csv('30 to 34 years - Counts - Women＋')\n",
    "Women_35_39= pd.read_csv('35 to 39 years - Counts - Women＋')\n",
    "Women_40_44= pd.read_csv('40 to 44 years - Counts - Women＋')\n",
    "Women_45_49= pd.read_csv('45 to 49 years - Counts - Women＋')\n",
    "Women_50_54= pd.read_csv('50 to 54 years - Counts - Women＋')\n",
    "Women_55_59= pd.read_csv('55 to 59 years - Counts - Women＋')\n",
    "Women_60_64= pd.read_csv('60 to 64 years - Counts - Women＋')\n",
    "Women_65_69= pd.read_csv('65 to 69 years - Counts - Women＋')\n",
    "Women_70_74= pd.read_csv('70 to 74 years - Counts - Women＋')\n",
    "Women_75_79= pd.read_csv('75 to 79 years - Counts - Women＋')\n",
    "Women_80_84= pd.read_csv('80 to 84 years - Counts - Women＋')\n",
    "Women_85_plus= pd.read_csv('85 years and over - Counts - Women＋')"
   ]
  },
  {
   "cell_type": "code",
   "execution_count": 2,
   "id": "2f23165c",
   "metadata": {},
   "outputs": [],
   "source": [
    "Age_10_24_dfs = [Women_10_14, Women_15_19, Women_20_24]\n",
    "Age_25_39_dfs = [Women_25_29, Women_30_34, Women_35_39]\n",
    "Age_40_54_dfs = [Women_40_44, Women_45_49, Women_50_54]\n",
    "Age_55_69_dfs = [Women_55_59, Women_60_64, Women_65_69]\n",
    "Age_70_85_dfs = [Women_70_74, Women_75_79, Women_80_84]"
   ]
  },
  {
   "cell_type": "code",
   "execution_count": 3,
   "id": "3fdb28b6",
   "metadata": {},
   "outputs": [],
   "source": [
    "merged_age_10_24_df = reduce(lambda left, right: pd.merge(left, right, on='postal_code', how='outer'), Age_10_24_dfs)\n",
    "merged_age_25_39_df = reduce(lambda left, right: pd.merge(left, right, on='postal_code', how='outer'), Age_25_39_dfs)\n",
    "merged_age_40_54_df = reduce(lambda left, right: pd.merge(left, right, on='postal_code', how='outer'), Age_40_54_dfs)\n",
    "merged_age_55_69_df = reduce(lambda left, right: pd.merge(left, right, on='postal_code', how='outer'), Age_55_69_dfs)\n",
    "merged_age_70_85_df = reduce(lambda left, right: pd.merge(left, right, on='postal_code', how='outer'), Age_70_85_dfs)"
   ]
  },
  {
   "cell_type": "code",
   "execution_count": 4,
   "id": "3ec4c0f4",
   "metadata": {},
   "outputs": [
    {
     "name": "stdout",
     "output_type": "stream",
     "text": [
      "   postal_code   10-14   15-19   20-24\n",
      "0          M4N   490.0   530.0   420.0\n",
      "1          M4P   420.0   440.0   810.0\n",
      "2          M4R   340.0   385.0   335.0\n",
      "3          M4S   555.0   565.0   780.0\n",
      "4          M4T   240.0   205.0   260.0\n",
      "..         ...     ...     ...     ...\n",
      "92         M6C   625.0   525.0   610.0\n",
      "93         M6E   735.0   855.0  1060.0\n",
      "94         M6M  1215.0  1240.0  1400.0\n",
      "95         M6N   985.0   990.0  1125.0\n",
      "96         M9N   680.0   690.0   820.0\n",
      "\n",
      "[97 rows x 4 columns]\n"
     ]
    }
   ],
   "source": [
    "merged_age_10_24_df = merged_age_10_24_df.rename(columns={'value_x': '10-14','value_y': '15-19', 'value': '20-24'})\n",
    "merged_age_10_24_df = merged_age_10_24_df.drop(columns=['data_x', 'data_y', 'data'])\n",
    "print(merged_age_10_24_df)"
   ]
  },
  {
   "cell_type": "code",
   "execution_count": 5,
   "id": "f7b9c1cc",
   "metadata": {},
   "outputs": [
    {
     "name": "stdout",
     "output_type": "stream",
     "text": [
      "   postal_code   25-29   30-34   35-39\n",
      "0          M4N   350.0   450.0   410.0\n",
      "1          M4P  1715.0  1785.0  1295.0\n",
      "2          M4R   445.0   510.0   410.0\n",
      "3          M4S  1755.0  2030.0  1520.0\n",
      "4          M4T   315.0   355.0   400.0\n",
      "..         ...     ...     ...     ...\n",
      "92         M6C   885.0  1115.0  1030.0\n",
      "93         M6E  1415.0  1610.0  1540.0\n",
      "94         M6M  1505.0  1650.0  1575.0\n",
      "95         M6N  1420.0  1565.0  1700.0\n",
      "96         M9N   905.0  1035.0  1035.0\n",
      "\n",
      "[97 rows x 4 columns]\n"
     ]
    }
   ],
   "source": [
    "merged_age_25_39_df = merged_age_25_39_df.rename(columns={'value_x': '25-29','value_y': '30-34', 'value': '35-39'})\n",
    "merged_age_25_39_df = merged_age_25_39_df.drop(columns=['data_x', 'data_y', 'data'])\n",
    "print(merged_age_25_39_df)"
   ]
  },
  {
   "cell_type": "code",
   "execution_count": 6,
   "id": "54ad1a97",
   "metadata": {},
   "outputs": [
    {
     "name": "stdout",
     "output_type": "stream",
     "text": [
      "   postal_code   40-44   45-49   50-54\n",
      "0          M4N   525.0   565.0   675.0\n",
      "1          M4P   985.0   890.0   795.0\n",
      "2          M4R   445.0   495.0   475.0\n",
      "3          M4S  1210.0  1045.0  1020.0\n",
      "4          M4T   370.0   340.0   340.0\n",
      "..         ...     ...     ...     ...\n",
      "92         M6C   910.0   895.0   815.0\n",
      "93         M6E  1400.0  1405.0  1390.0\n",
      "94         M6M  1525.0  1470.0  1610.0\n",
      "95         M6N  1520.0  1305.0  1375.0\n",
      "96         M9N   935.0   870.0   970.0\n",
      "\n",
      "[97 rows x 4 columns]\n"
     ]
    }
   ],
   "source": [
    "merged_age_40_54_df = merged_age_40_54_df.rename(columns={'value_x': '40-44','value_y': '45-49', 'value': '50-54'})\n",
    "merged_age_40_54_df = merged_age_40_54_df.drop(columns=['data_x', 'data_y', 'data'])\n",
    "print(merged_age_40_54_df)"
   ]
  },
  {
   "cell_type": "code",
   "execution_count": 7,
   "id": "d84d2332",
   "metadata": {},
   "outputs": [
    {
     "name": "stdout",
     "output_type": "stream",
     "text": [
      "   postal_code   55-59   60-64   65-69\n",
      "0          M4N   600.0   540.0   495.0\n",
      "1          M4P   760.0   650.0   635.0\n",
      "2          M4R   445.0   365.0   350.0\n",
      "3          M4S   950.0   810.0   760.0\n",
      "4          M4T   415.0   410.0   425.0\n",
      "..         ...     ...     ...     ...\n",
      "92         M6C   830.0   755.0   755.0\n",
      "93         M6E  1355.0  1290.0   990.0\n",
      "94         M6M  1730.0  1480.0  1070.0\n",
      "95         M6N  1520.0  1405.0  1125.0\n",
      "96         M9N   990.0   870.0   725.0\n",
      "\n",
      "[97 rows x 4 columns]\n"
     ]
    }
   ],
   "source": [
    "merged_age_55_69_df = merged_age_55_69_df.rename(columns={'value_x': '55-59','value_y': '60-64', 'value': '65-69'})\n",
    "merged_age_55_69_df = merged_age_55_69_df.drop(columns=['data_x', 'data_y', 'data'])\n",
    "print(merged_age_55_69_df)"
   ]
  },
  {
   "cell_type": "code",
   "execution_count": 8,
   "id": "1244a475",
   "metadata": {},
   "outputs": [
    {
     "name": "stdout",
     "output_type": "stream",
     "text": [
      "   postal_code  70-74  75-79  80-85\n",
      "0          M4N  475.0  400.0  285.0\n",
      "1          M4P  540.0  435.0  290.0\n",
      "2          M4R  305.0  220.0  110.0\n",
      "3          M4S  650.0  505.0  345.0\n",
      "4          M4T  390.0  285.0  205.0\n",
      "..         ...    ...    ...    ...\n",
      "92         M6C  635.0  420.0  320.0\n",
      "93         M6E  850.0  610.0  525.0\n",
      "94         M6M  865.0  585.0  550.0\n",
      "95         M6N  940.0  630.0  440.0\n",
      "96         M9N  550.0  330.0  295.0\n",
      "\n",
      "[97 rows x 4 columns]\n"
     ]
    }
   ],
   "source": [
    "merged_age_70_85_df = merged_age_70_85_df.rename(columns={'value_x': '70-74','value_y': '75-79', 'value': '80-85'})\n",
    "merged_age_70_85_df = merged_age_70_85_df.drop(columns=['data_x', 'data_y', 'data'])\n",
    "print(merged_age_70_85_df)"
   ]
  },
  {
   "cell_type": "code",
   "execution_count": 9,
   "id": "8181a1db",
   "metadata": {},
   "outputs": [
    {
     "name": "stdout",
     "output_type": "stream",
     "text": [
      "   postal_code                                               data  85_plus\n",
      "0          M4N  2021A0011M4N - 85 years and over - Counts - Wo...    580.0\n",
      "1          M4P  2021A0011M4P - 85 years and over - Counts - Wo...    235.0\n",
      "2          M4R  2021A0011M4R - 85 years and over - Counts - Wo...    120.0\n",
      "3          M4S  2021A0011M4S - 85 years and over - Counts - Wo...    635.0\n",
      "4          M4T  2021A0011M4T - 85 years and over - Counts - Wo...    215.0\n",
      "..         ...                                                ...      ...\n",
      "92         M6C  2021A0011M6C - 85 years and over - Counts - Wo...    345.0\n",
      "93         M6E  2021A0011M6E - 85 years and over - Counts - Wo...    575.0\n",
      "94         M6M  2021A0011M6M - 85 years and over - Counts - Wo...    645.0\n",
      "95         M6N  2021A0011M6N - 85 years and over - Counts - Wo...    515.0\n",
      "96         M9N  2021A0011M9N - 85 years and over - Counts - Wo...    340.0\n",
      "\n",
      "[97 rows x 3 columns]\n"
     ]
    }
   ],
   "source": [
    "Women_85_plus = Women_85_plus.rename(columns={'value': '85_plus'})\n",
    "print(Women_85_plus)"
   ]
  },
  {
   "cell_type": "code",
   "execution_count": 10,
   "id": "9b32caed",
   "metadata": {
    "scrolled": true
   },
   "outputs": [
    {
     "name": "stdout",
     "output_type": "stream",
     "text": [
      "   postal_code   10-14   15-19   20-24   25-29   30-34   35-39   40-44  \\\n",
      "0          M4N   490.0   530.0   420.0   350.0   450.0   410.0   525.0   \n",
      "1          M4P   420.0   440.0   810.0  1715.0  1785.0  1295.0   985.0   \n",
      "2          M4R   340.0   385.0   335.0   445.0   510.0   410.0   445.0   \n",
      "3          M4S   555.0   565.0   780.0  1755.0  2030.0  1520.0  1210.0   \n",
      "4          M4T   240.0   205.0   260.0   315.0   355.0   400.0   370.0   \n",
      "..         ...     ...     ...     ...     ...     ...     ...     ...   \n",
      "92         M6C   625.0   525.0   610.0   885.0  1115.0  1030.0   910.0   \n",
      "93         M6E   735.0   855.0  1060.0  1415.0  1610.0  1540.0  1400.0   \n",
      "94         M6M  1215.0  1240.0  1400.0  1505.0  1650.0  1575.0  1525.0   \n",
      "95         M6N   985.0   990.0  1125.0  1420.0  1565.0  1700.0  1520.0   \n",
      "96         M9N   680.0   690.0   820.0   905.0  1035.0  1035.0   935.0   \n",
      "\n",
      "     45-49   50-54   55-59   60-64   65-69  70-74  75-79  80-85  \\\n",
      "0    565.0   675.0   600.0   540.0   495.0  475.0  400.0  285.0   \n",
      "1    890.0   795.0   760.0   650.0   635.0  540.0  435.0  290.0   \n",
      "2    495.0   475.0   445.0   365.0   350.0  305.0  220.0  110.0   \n",
      "3   1045.0  1020.0   950.0   810.0   760.0  650.0  505.0  345.0   \n",
      "4    340.0   340.0   415.0   410.0   425.0  390.0  285.0  205.0   \n",
      "..     ...     ...     ...     ...     ...    ...    ...    ...   \n",
      "92   895.0   815.0   830.0   755.0   755.0  635.0  420.0  320.0   \n",
      "93  1405.0  1390.0  1355.0  1290.0   990.0  850.0  610.0  525.0   \n",
      "94  1470.0  1610.0  1730.0  1480.0  1070.0  865.0  585.0  550.0   \n",
      "95  1305.0  1375.0  1520.0  1405.0  1125.0  940.0  630.0  440.0   \n",
      "96   870.0   970.0   990.0   870.0   725.0  550.0  330.0  295.0   \n",
      "\n",
      "                                                 data  85_plus  \n",
      "0   2021A0011M4N - 85 years and over - Counts - Wo...    580.0  \n",
      "1   2021A0011M4P - 85 years and over - Counts - Wo...    235.0  \n",
      "2   2021A0011M4R - 85 years and over - Counts - Wo...    120.0  \n",
      "3   2021A0011M4S - 85 years and over - Counts - Wo...    635.0  \n",
      "4   2021A0011M4T - 85 years and over - Counts - Wo...    215.0  \n",
      "..                                                ...      ...  \n",
      "92  2021A0011M6C - 85 years and over - Counts - Wo...    345.0  \n",
      "93  2021A0011M6E - 85 years and over - Counts - Wo...    575.0  \n",
      "94  2021A0011M6M - 85 years and over - Counts - Wo...    645.0  \n",
      "95  2021A0011M6N - 85 years and over - Counts - Wo...    515.0  \n",
      "96  2021A0011M9N - 85 years and over - Counts - Wo...    340.0  \n",
      "\n",
      "[97 rows x 18 columns]\n"
     ]
    }
   ],
   "source": [
    "Finalised_ages = [merged_age_10_24_df, merged_age_25_39_df, merged_age_40_54_df,merged_age_55_69_df, merged_age_70_85_df, Women_85_plus]\n",
    "finalised_age_data = reduce(lambda left, right: pd.merge(left, right, on='postal_code', how='outer'), Finalised_ages)\n",
    "print(finalised_age_data)"
   ]
  },
  {
   "cell_type": "code",
   "execution_count": 12,
   "id": "1a6b6313",
   "metadata": {},
   "outputs": [
    {
     "ename": "TypeError",
     "evalue": "argument of type 'method' is not iterable",
     "output_type": "error",
     "traceback": [
      "\u001b[0;31m---------------------------------------------------------------------------\u001b[0m",
      "\u001b[0;31mTypeError\u001b[0m                                 Traceback (most recent call last)",
      "Cell \u001b[0;32mIn[12], line 1\u001b[0m\n\u001b[0;32m----> 1\u001b[0m finalised_age_data\u001b[38;5;241m=\u001b[39m\u001b[43mpd\u001b[49m\u001b[38;5;241;43m.\u001b[39;49m\u001b[43mread_csv\u001b[49m\u001b[43m(\u001b[49m\u001b[43mfinalised_age_data\u001b[49m\u001b[43m)\u001b[49m\n\u001b[1;32m      2\u001b[0m notyetfinalised\u001b[38;5;241m=\u001b[39mpd\u001b[38;5;241m.\u001b[39mread_csv(torontofinaldf\u001b[38;5;241m.\u001b[39mcsv)\n\u001b[1;32m      4\u001b[0m result \u001b[38;5;241m=\u001b[39m pd\u001b[38;5;241m.\u001b[39mmerge(finalised_age_data, notyetfinalised, on\u001b[38;5;241m=\u001b[39m\u001b[38;5;124m'\u001b[39m\u001b[38;5;124mkey\u001b[39m\u001b[38;5;124m'\u001b[39m)\n",
      "File \u001b[0;32m/opt/conda/lib/python3.11/site-packages/pandas/io/parsers/readers.py:948\u001b[0m, in \u001b[0;36mread_csv\u001b[0;34m(filepath_or_buffer, sep, delimiter, header, names, index_col, usecols, dtype, engine, converters, true_values, false_values, skipinitialspace, skiprows, skipfooter, nrows, na_values, keep_default_na, na_filter, verbose, skip_blank_lines, parse_dates, infer_datetime_format, keep_date_col, date_parser, date_format, dayfirst, cache_dates, iterator, chunksize, compression, thousands, decimal, lineterminator, quotechar, quoting, doublequote, escapechar, comment, encoding, encoding_errors, dialect, on_bad_lines, delim_whitespace, low_memory, memory_map, float_precision, storage_options, dtype_backend)\u001b[0m\n\u001b[1;32m    935\u001b[0m kwds_defaults \u001b[38;5;241m=\u001b[39m _refine_defaults_read(\n\u001b[1;32m    936\u001b[0m     dialect,\n\u001b[1;32m    937\u001b[0m     delimiter,\n\u001b[0;32m   (...)\u001b[0m\n\u001b[1;32m    944\u001b[0m     dtype_backend\u001b[38;5;241m=\u001b[39mdtype_backend,\n\u001b[1;32m    945\u001b[0m )\n\u001b[1;32m    946\u001b[0m kwds\u001b[38;5;241m.\u001b[39mupdate(kwds_defaults)\n\u001b[0;32m--> 948\u001b[0m \u001b[38;5;28;01mreturn\u001b[39;00m \u001b[43m_read\u001b[49m\u001b[43m(\u001b[49m\u001b[43mfilepath_or_buffer\u001b[49m\u001b[43m,\u001b[49m\u001b[43m \u001b[49m\u001b[43mkwds\u001b[49m\u001b[43m)\u001b[49m\n",
      "File \u001b[0;32m/opt/conda/lib/python3.11/site-packages/pandas/io/parsers/readers.py:611\u001b[0m, in \u001b[0;36m_read\u001b[0;34m(filepath_or_buffer, kwds)\u001b[0m\n\u001b[1;32m    608\u001b[0m _validate_names(kwds\u001b[38;5;241m.\u001b[39mget(\u001b[38;5;124m\"\u001b[39m\u001b[38;5;124mnames\u001b[39m\u001b[38;5;124m\"\u001b[39m, \u001b[38;5;28;01mNone\u001b[39;00m))\n\u001b[1;32m    610\u001b[0m \u001b[38;5;66;03m# Create the parser.\u001b[39;00m\n\u001b[0;32m--> 611\u001b[0m parser \u001b[38;5;241m=\u001b[39m \u001b[43mTextFileReader\u001b[49m\u001b[43m(\u001b[49m\u001b[43mfilepath_or_buffer\u001b[49m\u001b[43m,\u001b[49m\u001b[43m \u001b[49m\u001b[38;5;241;43m*\u001b[39;49m\u001b[38;5;241;43m*\u001b[39;49m\u001b[43mkwds\u001b[49m\u001b[43m)\u001b[49m\n\u001b[1;32m    613\u001b[0m \u001b[38;5;28;01mif\u001b[39;00m chunksize \u001b[38;5;129;01mor\u001b[39;00m iterator:\n\u001b[1;32m    614\u001b[0m     \u001b[38;5;28;01mreturn\u001b[39;00m parser\n",
      "File \u001b[0;32m/opt/conda/lib/python3.11/site-packages/pandas/io/parsers/readers.py:1448\u001b[0m, in \u001b[0;36mTextFileReader.__init__\u001b[0;34m(self, f, engine, **kwds)\u001b[0m\n\u001b[1;32m   1445\u001b[0m     \u001b[38;5;28mself\u001b[39m\u001b[38;5;241m.\u001b[39moptions[\u001b[38;5;124m\"\u001b[39m\u001b[38;5;124mhas_index_names\u001b[39m\u001b[38;5;124m\"\u001b[39m] \u001b[38;5;241m=\u001b[39m kwds[\u001b[38;5;124m\"\u001b[39m\u001b[38;5;124mhas_index_names\u001b[39m\u001b[38;5;124m\"\u001b[39m]\n\u001b[1;32m   1447\u001b[0m \u001b[38;5;28mself\u001b[39m\u001b[38;5;241m.\u001b[39mhandles: IOHandles \u001b[38;5;241m|\u001b[39m \u001b[38;5;28;01mNone\u001b[39;00m \u001b[38;5;241m=\u001b[39m \u001b[38;5;28;01mNone\u001b[39;00m\n\u001b[0;32m-> 1448\u001b[0m \u001b[38;5;28mself\u001b[39m\u001b[38;5;241m.\u001b[39m_engine \u001b[38;5;241m=\u001b[39m \u001b[38;5;28;43mself\u001b[39;49m\u001b[38;5;241;43m.\u001b[39;49m\u001b[43m_make_engine\u001b[49m\u001b[43m(\u001b[49m\u001b[43mf\u001b[49m\u001b[43m,\u001b[49m\u001b[43m \u001b[49m\u001b[38;5;28;43mself\u001b[39;49m\u001b[38;5;241;43m.\u001b[39;49m\u001b[43mengine\u001b[49m\u001b[43m)\u001b[49m\n",
      "File \u001b[0;32m/opt/conda/lib/python3.11/site-packages/pandas/io/parsers/readers.py:1705\u001b[0m, in \u001b[0;36mTextFileReader._make_engine\u001b[0;34m(self, f, engine)\u001b[0m\n\u001b[1;32m   1703\u001b[0m     \u001b[38;5;28;01mif\u001b[39;00m \u001b[38;5;124m\"\u001b[39m\u001b[38;5;124mb\u001b[39m\u001b[38;5;124m\"\u001b[39m \u001b[38;5;129;01mnot\u001b[39;00m \u001b[38;5;129;01min\u001b[39;00m mode:\n\u001b[1;32m   1704\u001b[0m         mode \u001b[38;5;241m+\u001b[39m\u001b[38;5;241m=\u001b[39m \u001b[38;5;124m\"\u001b[39m\u001b[38;5;124mb\u001b[39m\u001b[38;5;124m\"\u001b[39m\n\u001b[0;32m-> 1705\u001b[0m \u001b[38;5;28mself\u001b[39m\u001b[38;5;241m.\u001b[39mhandles \u001b[38;5;241m=\u001b[39m \u001b[43mget_handle\u001b[49m\u001b[43m(\u001b[49m\n\u001b[1;32m   1706\u001b[0m \u001b[43m    \u001b[49m\u001b[43mf\u001b[49m\u001b[43m,\u001b[49m\n\u001b[1;32m   1707\u001b[0m \u001b[43m    \u001b[49m\u001b[43mmode\u001b[49m\u001b[43m,\u001b[49m\n\u001b[1;32m   1708\u001b[0m \u001b[43m    \u001b[49m\u001b[43mencoding\u001b[49m\u001b[38;5;241;43m=\u001b[39;49m\u001b[38;5;28;43mself\u001b[39;49m\u001b[38;5;241;43m.\u001b[39;49m\u001b[43moptions\u001b[49m\u001b[38;5;241;43m.\u001b[39;49m\u001b[43mget\u001b[49m\u001b[43m(\u001b[49m\u001b[38;5;124;43m\"\u001b[39;49m\u001b[38;5;124;43mencoding\u001b[39;49m\u001b[38;5;124;43m\"\u001b[39;49m\u001b[43m,\u001b[49m\u001b[43m \u001b[49m\u001b[38;5;28;43;01mNone\u001b[39;49;00m\u001b[43m)\u001b[49m\u001b[43m,\u001b[49m\n\u001b[1;32m   1709\u001b[0m \u001b[43m    \u001b[49m\u001b[43mcompression\u001b[49m\u001b[38;5;241;43m=\u001b[39;49m\u001b[38;5;28;43mself\u001b[39;49m\u001b[38;5;241;43m.\u001b[39;49m\u001b[43moptions\u001b[49m\u001b[38;5;241;43m.\u001b[39;49m\u001b[43mget\u001b[49m\u001b[43m(\u001b[49m\u001b[38;5;124;43m\"\u001b[39;49m\u001b[38;5;124;43mcompression\u001b[39;49m\u001b[38;5;124;43m\"\u001b[39;49m\u001b[43m,\u001b[49m\u001b[43m \u001b[49m\u001b[38;5;28;43;01mNone\u001b[39;49;00m\u001b[43m)\u001b[49m\u001b[43m,\u001b[49m\n\u001b[1;32m   1710\u001b[0m \u001b[43m    \u001b[49m\u001b[43mmemory_map\u001b[49m\u001b[38;5;241;43m=\u001b[39;49m\u001b[38;5;28;43mself\u001b[39;49m\u001b[38;5;241;43m.\u001b[39;49m\u001b[43moptions\u001b[49m\u001b[38;5;241;43m.\u001b[39;49m\u001b[43mget\u001b[49m\u001b[43m(\u001b[49m\u001b[38;5;124;43m\"\u001b[39;49m\u001b[38;5;124;43mmemory_map\u001b[39;49m\u001b[38;5;124;43m\"\u001b[39;49m\u001b[43m,\u001b[49m\u001b[43m \u001b[49m\u001b[38;5;28;43;01mFalse\u001b[39;49;00m\u001b[43m)\u001b[49m\u001b[43m,\u001b[49m\n\u001b[1;32m   1711\u001b[0m \u001b[43m    \u001b[49m\u001b[43mis_text\u001b[49m\u001b[38;5;241;43m=\u001b[39;49m\u001b[43mis_text\u001b[49m\u001b[43m,\u001b[49m\n\u001b[1;32m   1712\u001b[0m \u001b[43m    \u001b[49m\u001b[43merrors\u001b[49m\u001b[38;5;241;43m=\u001b[39;49m\u001b[38;5;28;43mself\u001b[39;49m\u001b[38;5;241;43m.\u001b[39;49m\u001b[43moptions\u001b[49m\u001b[38;5;241;43m.\u001b[39;49m\u001b[43mget\u001b[49m\u001b[43m(\u001b[49m\u001b[38;5;124;43m\"\u001b[39;49m\u001b[38;5;124;43mencoding_errors\u001b[39;49m\u001b[38;5;124;43m\"\u001b[39;49m\u001b[43m,\u001b[49m\u001b[43m \u001b[49m\u001b[38;5;124;43m\"\u001b[39;49m\u001b[38;5;124;43mstrict\u001b[39;49m\u001b[38;5;124;43m\"\u001b[39;49m\u001b[43m)\u001b[49m\u001b[43m,\u001b[49m\n\u001b[1;32m   1713\u001b[0m \u001b[43m    \u001b[49m\u001b[43mstorage_options\u001b[49m\u001b[38;5;241;43m=\u001b[39;49m\u001b[38;5;28;43mself\u001b[39;49m\u001b[38;5;241;43m.\u001b[39;49m\u001b[43moptions\u001b[49m\u001b[38;5;241;43m.\u001b[39;49m\u001b[43mget\u001b[49m\u001b[43m(\u001b[49m\u001b[38;5;124;43m\"\u001b[39;49m\u001b[38;5;124;43mstorage_options\u001b[39;49m\u001b[38;5;124;43m\"\u001b[39;49m\u001b[43m,\u001b[49m\u001b[43m \u001b[49m\u001b[38;5;28;43;01mNone\u001b[39;49;00m\u001b[43m)\u001b[49m\u001b[43m,\u001b[49m\n\u001b[1;32m   1714\u001b[0m \u001b[43m\u001b[49m\u001b[43m)\u001b[49m\n\u001b[1;32m   1715\u001b[0m \u001b[38;5;28;01massert\u001b[39;00m \u001b[38;5;28mself\u001b[39m\u001b[38;5;241m.\u001b[39mhandles \u001b[38;5;129;01mis\u001b[39;00m \u001b[38;5;129;01mnot\u001b[39;00m \u001b[38;5;28;01mNone\u001b[39;00m\n\u001b[1;32m   1716\u001b[0m f \u001b[38;5;241m=\u001b[39m \u001b[38;5;28mself\u001b[39m\u001b[38;5;241m.\u001b[39mhandles\u001b[38;5;241m.\u001b[39mhandle\n",
      "File \u001b[0;32m/opt/conda/lib/python3.11/site-packages/pandas/io/common.py:709\u001b[0m, in \u001b[0;36mget_handle\u001b[0;34m(path_or_buf, mode, encoding, compression, memory_map, is_text, errors, storage_options)\u001b[0m\n\u001b[1;32m    706\u001b[0m errors \u001b[38;5;241m=\u001b[39m errors \u001b[38;5;129;01mor\u001b[39;00m \u001b[38;5;124m\"\u001b[39m\u001b[38;5;124mstrict\u001b[39m\u001b[38;5;124m\"\u001b[39m\n\u001b[1;32m    708\u001b[0m \u001b[38;5;66;03m# read_csv does not know whether the buffer is opened in binary/text mode\u001b[39;00m\n\u001b[0;32m--> 709\u001b[0m \u001b[38;5;28;01mif\u001b[39;00m \u001b[43m_is_binary_mode\u001b[49m\u001b[43m(\u001b[49m\u001b[43mpath_or_buf\u001b[49m\u001b[43m,\u001b[49m\u001b[43m \u001b[49m\u001b[43mmode\u001b[49m\u001b[43m)\u001b[49m \u001b[38;5;129;01mand\u001b[39;00m \u001b[38;5;124m\"\u001b[39m\u001b[38;5;124mb\u001b[39m\u001b[38;5;124m\"\u001b[39m \u001b[38;5;129;01mnot\u001b[39;00m \u001b[38;5;129;01min\u001b[39;00m mode:\n\u001b[1;32m    710\u001b[0m     mode \u001b[38;5;241m+\u001b[39m\u001b[38;5;241m=\u001b[39m \u001b[38;5;124m\"\u001b[39m\u001b[38;5;124mb\u001b[39m\u001b[38;5;124m\"\u001b[39m\n\u001b[1;32m    712\u001b[0m \u001b[38;5;66;03m# validate encoding and errors\u001b[39;00m\n",
      "File \u001b[0;32m/opt/conda/lib/python3.11/site-packages/pandas/io/common.py:1171\u001b[0m, in \u001b[0;36m_is_binary_mode\u001b[0;34m(handle, mode)\u001b[0m\n\u001b[1;32m   1168\u001b[0m \u001b[38;5;28;01mif\u001b[39;00m \u001b[38;5;28missubclass\u001b[39m(\u001b[38;5;28mtype\u001b[39m(handle), text_classes):\n\u001b[1;32m   1169\u001b[0m     \u001b[38;5;28;01mreturn\u001b[39;00m \u001b[38;5;28;01mFalse\u001b[39;00m\n\u001b[0;32m-> 1171\u001b[0m \u001b[38;5;28;01mreturn\u001b[39;00m \u001b[38;5;28misinstance\u001b[39m(handle, _get_binary_io_classes()) \u001b[38;5;129;01mor\u001b[39;00m \u001b[38;5;124;43m\"\u001b[39;49m\u001b[38;5;124;43mb\u001b[39;49m\u001b[38;5;124;43m\"\u001b[39;49m\u001b[43m \u001b[49m\u001b[38;5;129;43;01min\u001b[39;49;00m\u001b[43m \u001b[49m\u001b[38;5;28;43mgetattr\u001b[39;49m\u001b[43m(\u001b[49m\n\u001b[1;32m   1172\u001b[0m \u001b[43m    \u001b[49m\u001b[43mhandle\u001b[49m\u001b[43m,\u001b[49m\u001b[43m \u001b[49m\u001b[38;5;124;43m\"\u001b[39;49m\u001b[38;5;124;43mmode\u001b[39;49m\u001b[38;5;124;43m\"\u001b[39;49m\u001b[43m,\u001b[49m\u001b[43m \u001b[49m\u001b[43mmode\u001b[49m\n\u001b[1;32m   1173\u001b[0m \u001b[43m\u001b[49m\u001b[43m)\u001b[49m\n",
      "\u001b[0;31mTypeError\u001b[0m: argument of type 'method' is not iterable"
     ]
    }
   ],
   "source": [
    "finalised_age_data.to_csv('finalised_age_data', index=False)"
   ]
  },
  {
   "cell_type": "code",
   "execution_count": null,
   "id": "9a3ff800",
   "metadata": {},
   "outputs": [],
   "source": []
  },
  {
   "cell_type": "code",
   "execution_count": null,
   "id": "6852c218",
   "metadata": {},
   "outputs": [],
   "source": []
  },
  {
   "cell_type": "code",
   "execution_count": null,
   "id": "dd0f637e",
   "metadata": {},
   "outputs": [],
   "source": []
  }
 ],
 "metadata": {
  "kernelspec": {
   "display_name": "Python 3 (ipykernel)",
   "language": "python",
   "name": "python3"
  },
  "language_info": {
   "codemirror_mode": {
    "name": "ipython",
    "version": 3
   },
   "file_extension": ".py",
   "mimetype": "text/x-python",
   "name": "python",
   "nbconvert_exporter": "python",
   "pygments_lexer": "ipython3",
   "version": "3.11.6"
  }
 },
 "nbformat": 4,
 "nbformat_minor": 5
}

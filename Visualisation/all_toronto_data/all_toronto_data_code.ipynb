{
 "cells": [
  {
   "cell_type": "code",
   "execution_count": 5,
   "id": "5387c5ee",
   "metadata": {},
   "outputs": [],
   "source": [
    "import pandas as pd"
   ]
  },
  {
   "cell_type": "code",
   "execution_count": 14,
   "id": "ce4041fe",
   "metadata": {},
   "outputs": [],
   "source": [
    "finalised_age= pd.read_csv('finalised_age_data')\n",
    "finalised_age = finalised_age.rename(columns={'postal_code': 'Postalcode'})"
   ]
  },
  {
   "cell_type": "code",
   "execution_count": 15,
   "id": "a3105581",
   "metadata": {},
   "outputs": [],
   "source": [
    "notyetfinalised=pd.read_csv('torontofinaldf.csv')"
   ]
  },
  {
   "cell_type": "code",
   "execution_count": 17,
   "id": "2a605960",
   "metadata": {},
   "outputs": [
    {
     "name": "stdout",
     "output_type": "stream",
     "text": [
      "   Postalcode   10-14   15-19   20-24   25-29   30-34   35-39   40-44   45-49  \\\n",
      "0         M4N   490.0   530.0   420.0   350.0   450.0   410.0   525.0   565.0   \n",
      "1         M4P   420.0   440.0   810.0  1715.0  1785.0  1295.0   985.0   890.0   \n",
      "2         M4R   340.0   385.0   335.0   445.0   510.0   410.0   445.0   495.0   \n",
      "3         M4S   555.0   565.0   780.0  1755.0  2030.0  1520.0  1210.0  1045.0   \n",
      "4         M4T   240.0   205.0   260.0   315.0   355.0   400.0   370.0   340.0   \n",
      "..        ...     ...     ...     ...     ...     ...     ...     ...     ...   \n",
      "92        M6C   625.0   525.0   610.0   885.0  1115.0  1030.0   910.0   895.0   \n",
      "93        M6E   735.0   855.0  1060.0  1415.0  1610.0  1540.0  1400.0  1405.0   \n",
      "94        M6M  1215.0  1240.0  1400.0  1505.0  1650.0  1575.0  1525.0  1470.0   \n",
      "95        M6N   985.0   990.0  1125.0  1420.0  1565.0  1700.0  1520.0  1305.0   \n",
      "96        M9N   680.0   690.0   820.0   905.0  1035.0  1035.0   935.0   870.0   \n",
      "\n",
      "     50-54  ...  85_plus  Avg Income  Population          Borough  \\\n",
      "0    675.0  ...    580.0    129000.0     16058.0  Central Toronto   \n",
      "1    795.0  ...    235.0     54950.0     25057.0  Central Toronto   \n",
      "2    475.0  ...    120.0     85200.0     11909.0  Central Toronto   \n",
      "3   1020.0  ...    635.0     61050.0     30754.0  Central Toronto   \n",
      "4    340.0  ...    215.0    105100.0     10332.0  Central Toronto   \n",
      "..     ...  ...      ...         ...         ...              ...   \n",
      "92   815.0  ...    345.0     59800.0     23997.0             York   \n",
      "93  1390.0  ...    575.0     40800.0     37684.0             York   \n",
      "94  1610.0  ...    645.0     36680.0     42148.0             York   \n",
      "95  1375.0  ...    515.0     38760.0     40252.0             York   \n",
      "96   970.0  ...    340.0     38320.0     26059.0             York   \n",
      "\n",
      "                                       Neighbourhood   Latitude  Longitude  \\\n",
      "0                                      Lawrence Park  43.728020 -79.388790   \n",
      "1                                   Davisville North  43.712751 -79.390197   \n",
      "2                                 North Toronto West  43.715383 -79.405678   \n",
      "3                                         Davisville  43.704324 -79.388790   \n",
      "4                        Moore Park, Summerhill East  43.689574 -79.383160   \n",
      "..                                               ...        ...        ...   \n",
      "92                                Humewood-Cedarvale  43.693781 -79.428191   \n",
      "93                               Caledonia-Fairbanks  43.689026 -79.453512   \n",
      "94  Del Ray, Mount Dennis, Keelsdale and Silverthorn  43.691116 -79.476013   \n",
      "95                     Runnymede, The Junction North  43.673185 -79.487262   \n",
      "96                                            Weston  43.706876 -79.518188   \n",
      "\n",
      "    Venue  High Education Count Fitness workforce  \n",
      "0     5.0                8035.0             100.0  \n",
      "1    11.0               13115.0             220.0  \n",
      "2     9.0                6335.0              60.0  \n",
      "3    10.0               16940.0             210.0  \n",
      "4    17.0                5880.0              65.0  \n",
      "..    ...                   ...               ...  \n",
      "92    2.0               10060.0             155.0  \n",
      "93    NaN                8710.0             165.0  \n",
      "94    NaN                5825.0             120.0  \n",
      "95    3.0                7190.0             130.0  \n",
      "96    NaN                4015.0             100.0  \n",
      "\n",
      "[97 rows x 26 columns]\n"
     ]
    }
   ],
   "source": [
    "result = pd.merge(finalised_age, notyetfinalised, on='Postalcode', how='left')\n",
    "\n",
    "print(result)"
   ]
  },
  {
   "cell_type": "code",
   "execution_count": 18,
   "id": "22d82670",
   "metadata": {},
   "outputs": [],
   "source": [
    "result.to_csv('all_toronto_data.csv', index=False)"
   ]
  },
  {
   "cell_type": "code",
   "execution_count": null,
   "id": "c0dcc091",
   "metadata": {},
   "outputs": [],
   "source": []
  }
 ],
 "metadata": {
  "kernelspec": {
   "display_name": "Python 3 (ipykernel)",
   "language": "python",
   "name": "python3"
  },
  "language_info": {
   "codemirror_mode": {
    "name": "ipython",
    "version": 3
   },
   "file_extension": ".py",
   "mimetype": "text/x-python",
   "name": "python",
   "nbconvert_exporter": "python",
   "pygments_lexer": "ipython3",
   "version": "3.11.6"
  }
 },
 "nbformat": 4,
 "nbformat_minor": 5
}
